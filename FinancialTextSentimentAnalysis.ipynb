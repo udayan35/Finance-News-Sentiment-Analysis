{
  "nbformat": 4,
  "nbformat_minor": 0,
  "metadata": {
    "colab": {
      "provenance": [],
      "authorship_tag": "ABX9TyO9iJegQbbz3BPSoUG6qBAy",
      "include_colab_link": true
    },
    "kernelspec": {
      "name": "python3",
      "display_name": "Python 3"
    },
    "language_info": {
      "name": "python"
    }
  },
  "cells": [
    {
      "cell_type": "markdown",
      "metadata": {
        "id": "view-in-github",
        "colab_type": "text"
      },
      "source": [
        "<a href=\"https://colab.research.google.com/github/udayan35/Finance-News-Sentiment-Analysis/blob/main/FinancialTextSentimentAnalysis.ipynb\" target=\"_parent\"><img src=\"https://colab.research.google.com/assets/colab-badge.svg\" alt=\"Open In Colab\"/></a>"
      ]
    },
    {
      "cell_type": "code",
      "execution_count": null,
      "metadata": {
        "colab": {
          "base_uri": "https://localhost:8080/"
        },
        "id": "cWNxU0WarMws",
        "outputId": "88fea6b7-90d7-405e-9083-d9135b90a4f9"
      },
      "outputs": [
        {
          "output_type": "stream",
          "name": "stdout",
          "text": [
            "Requirement already satisfied: transformers in /usr/local/lib/python3.11/dist-packages (4.53.2)\n",
            "Requirement already satisfied: feedparser in /usr/local/lib/python3.11/dist-packages (6.0.11)\n",
            "Requirement already satisfied: filelock in /usr/local/lib/python3.11/dist-packages (from transformers) (3.18.0)\n",
            "Requirement already satisfied: huggingface-hub<1.0,>=0.30.0 in /usr/local/lib/python3.11/dist-packages (from transformers) (0.33.4)\n",
            "Requirement already satisfied: numpy>=1.17 in /usr/local/lib/python3.11/dist-packages (from transformers) (2.0.2)\n",
            "Requirement already satisfied: packaging>=20.0 in /usr/local/lib/python3.11/dist-packages (from transformers) (25.0)\n",
            "Requirement already satisfied: pyyaml>=5.1 in /usr/local/lib/python3.11/dist-packages (from transformers) (6.0.2)\n",
            "Requirement already satisfied: regex!=2019.12.17 in /usr/local/lib/python3.11/dist-packages (from transformers) (2024.11.6)\n",
            "Requirement already satisfied: requests in /usr/local/lib/python3.11/dist-packages (from transformers) (2.32.3)\n",
            "Requirement already satisfied: tokenizers<0.22,>=0.21 in /usr/local/lib/python3.11/dist-packages (from transformers) (0.21.2)\n",
            "Requirement already satisfied: safetensors>=0.4.3 in /usr/local/lib/python3.11/dist-packages (from transformers) (0.5.3)\n",
            "Requirement already satisfied: tqdm>=4.27 in /usr/local/lib/python3.11/dist-packages (from transformers) (4.67.1)\n",
            "Requirement already satisfied: sgmllib3k in /usr/local/lib/python3.11/dist-packages (from feedparser) (1.0.0)\n",
            "Requirement already satisfied: fsspec>=2023.5.0 in /usr/local/lib/python3.11/dist-packages (from huggingface-hub<1.0,>=0.30.0->transformers) (2025.3.2)\n",
            "Requirement already satisfied: typing-extensions>=3.7.4.3 in /usr/local/lib/python3.11/dist-packages (from huggingface-hub<1.0,>=0.30.0->transformers) (4.14.1)\n",
            "Requirement already satisfied: hf-xet<2.0.0,>=1.1.2 in /usr/local/lib/python3.11/dist-packages (from huggingface-hub<1.0,>=0.30.0->transformers) (1.1.5)\n",
            "Requirement already satisfied: charset-normalizer<4,>=2 in /usr/local/lib/python3.11/dist-packages (from requests->transformers) (3.4.2)\n",
            "Requirement already satisfied: idna<4,>=2.5 in /usr/local/lib/python3.11/dist-packages (from requests->transformers) (3.10)\n",
            "Requirement already satisfied: urllib3<3,>=1.21.1 in /usr/local/lib/python3.11/dist-packages (from requests->transformers) (2.4.0)\n",
            "Requirement already satisfied: certifi>=2017.4.17 in /usr/local/lib/python3.11/dist-packages (from requests->transformers) (2025.7.14)\n"
          ]
        }
      ],
      "source": [
        "!pip install transformers feedparser"
      ]
    },
    {
      "cell_type": "code",
      "source": [
        "import feedparser\n",
        "# Use a pipeline as a high-level helper\n",
        "from transformers import pipeline\n",
        "\n",
        "pipe = pipeline(\"text-classification\", model=\"ProsusAI/finbert\")\n"
      ],
      "metadata": {
        "colab": {
          "base_uri": "https://localhost:8080/"
        },
        "id": "62Jaxzmiv5Wv",
        "outputId": "d857b884-047e-4d69-c1d7-3ff099a81cd3"
      },
      "execution_count": null,
      "outputs": [
        {
          "output_type": "stream",
          "name": "stderr",
          "text": [
            "Device set to use cpu\n"
          ]
        }
      ]
    },
    {
      "cell_type": "code",
      "source": [
        "ticker='META'\n",
        "keyword='meta'\n",
        "rss_url=f'http://finance.yahoo.com/rss/headline?s={ticker}'\n",
        "\n",
        "feed=feedparser.parse(rss_url)\n",
        "positive,negative,neutral=0,0,0\n",
        "total_score=0\n",
        "num_articles=0"
      ],
      "metadata": {
        "id": "GBgTQNiKwG-v"
      },
      "execution_count": null,
      "outputs": []
    },
    {
      "cell_type": "code",
      "source": [
        "type(feed)"
      ],
      "metadata": {
        "colab": {
          "base_uri": "https://localhost:8080/"
        },
        "id": "foV0xkk5Dln0",
        "outputId": "76beeca3-bb92-48da-bdb6-e19198af8278"
      },
      "execution_count": null,
      "outputs": [
        {
          "output_type": "execute_result",
          "data": {
            "text/plain": [
              "feedparser.util.FeedParserDict"
            ]
          },
          "metadata": {},
          "execution_count": 18
        }
      ]
    },
    {
      "cell_type": "code",
      "source": [
        "for i,entry in enumerate(feed.entries):\n",
        "  if keyword.lower() not in entry.summary.lower():\n",
        "    continue\n",
        "  print(f'Title:{entry.title}')\n",
        "  print(f'Link:{entry.link}')\n",
        "  print(f'Published:{entry.published}')\n",
        "  print(f'Summary:{entry.summary}')\n",
        "\n",
        "  sentiment=pipe(entry.summary)[0]\n",
        "\n",
        "  print(f'Sentiment:{sentiment}')\n",
        "  print(f'Score:{sentiment[\"score\"]}')\n",
        "  print('-'*40)\n",
        "\n",
        "  if sentiment['label']=='positive':\n",
        "    total_score+=sentiment['score']\n",
        "    num_articles+=1\n",
        "    positive+=1\n",
        "  elif sentiment['label']=='negative':\n",
        "    total_score-=sentiment['score']\n",
        "    num_articles+=1\n",
        "    negative+=1\n",
        "  else:\n",
        "    neutral+=1"
      ],
      "metadata": {
        "colab": {
          "base_uri": "https://localhost:8080/"
        },
        "id": "4tJ1YHACDn_9",
        "outputId": "b476d2c6-ba70-4b09-9aff-93f07c12b16a"
      },
      "execution_count": null,
      "outputs": [
        {
          "output_type": "stream",
          "name": "stdout",
          "text": [
            "Title:'Zuck Reached Out And We Chatted': Meta Lures Seattle AI Founder With $100M-Plus Offer To Join Its Superintelligence Dream Team\n",
            "Link:https://finance.yahoo.com/news/zuck-reached-chatted-meta-lures-163153693.html?.tsrc=rss\n",
            "Published:Sat, 19 Jul 2025 16:31:53 +0000\n",
            "Summary:Matt Deitke, co-founder of Seattle-based AI startup Vercept, has joined Meta's (NASDAQ:META) Superintelligence Lab after receiving a direct offer from CEO Mark Zuckerberg. Deitke described the initiative as \"the most exciting bet I've seen in tech history,\" signaling Meta's bold ambitions in artificial general intelligence, GeekWire reports. Deitke brings advanced expertise in embodied AI and 3D computer vision, having previously worked at the Allen Institute for AI and studied at the University\n",
            "Sentiment:{'label': 'neutral', 'score': 0.8429414629936218}\n",
            "Score:0.8429414629936218\n",
            "----------------------------------------\n",
            "Title:Think It's Too Late to Buy This Leading Tech Stock? Here's the Biggest Reason Why There's Still Time\n",
            "Link:https://www.fool.com/investing/2025/07/19/think-its-too-late-to-buy-this-leading-tech-stock/?.tsrc=rss\n",
            "Published:Sat, 19 Jul 2025 16:20:03 +0000\n",
            "Summary:Meta Platforms is likely reaching a saturation point in the social media market.  Meta's treasure trove of personal data should give it a competitive advantage in the AI space.  Investors may think this is one of the worst times to buy Meta Platforms (NASDAQ: META) stock.\n",
            "Sentiment:{'label': 'neutral', 'score': 0.42087388038635254}\n",
            "Score:0.42087388038635254\n",
            "----------------------------------------\n",
            "Title:Surge AI Quietly Hit $1B Without Outside Money — Now Even VCs Want In\n",
            "Link:https://finance.yahoo.com/news/surge-ai-quietly-hit-1b-150057861.html?.tsrc=rss\n",
            "Published:Sat, 19 Jul 2025 15:00:57 +0000\n",
            "Summary:Surge AI stayed under the radar until this summer, when news broke that the company crossed $1 billion in annual revenue without raising any outside capital. The company offers data labeling services used by companies, including Google and OpenAI, helping them train large-scale machine learning models, Inc. reports. Surge AI CEO Edwin Chen, a former Google and Meta (NASDAQ:META) engineer, said he's intentionally avoided venture capital. \"You move slow,\" Chen told Inc. \"You have a lot of politics\n",
            "Sentiment:{'label': 'neutral', 'score': 0.6590244770050049}\n",
            "Score:0.6590244770050049\n",
            "----------------------------------------\n",
            "Title:Cantor Fitzgerald Lifts Meta to $828 Price Target on AI Talent, Ad Gains\n",
            "Link:https://finance.yahoo.com/news/cantor-fitzgerald-lifts-meta-828-141717392.html?.tsrc=rss\n",
            "Published:Sat, 19 Jul 2025 14:17:17 +0000\n",
            "Summary:Meta Platforms, Inc. (NASDAQ:META) is one of the AI Stocks Investors Are Watching Closely. On July 16, Cantor Fitzgerald raised its price target on the stock to $828.00 from $807.00, while maintaining an “Overweight” rating. The firm raised its FY26E EPS estimates by 3% and reiterated its Overweight rating / Top pick. Earnings Preview: “We expect META […]\n",
            "Sentiment:{'label': 'positive', 'score': 0.926205575466156}\n",
            "Score:0.926205575466156\n",
            "----------------------------------------\n",
            "Title:Meta’s AI Innovations Drive $850 Price Target as Analysts See Strong Q2 Ahead\n",
            "Link:https://finance.yahoo.com/news/meta-ai-innovations-drive-850-111109598.html?.tsrc=rss\n",
            "Published:Sat, 19 Jul 2025 11:11:09 +0000\n",
            "Summary:Meta Platforms, Inc. (NASDAQ:META) is one of the Trending AI Stocks in Focus This Week. On July 16, Canaccord Genuity analyst Maria Ripps raised the price target on the stock to $850.00 (from $825.00) while maintaining a “Buy” rating. The firm is optimistic about Meta’s second Q2 results and believes that the setup is compelling as it […]\n",
            "Sentiment:{'label': 'positive', 'score': 0.9406607151031494}\n",
            "Score:0.9406607151031494\n",
            "----------------------------------------\n",
            "Title:Meta CEO Mark Zuckerberg Just Assembled a \"Super Intelligence Avengers\" Team That Could Totally Change the Game in Artificial Intelligence (AI). Here's Why That Makes Meta a \"Must-Own\" AI Stock.\n",
            "Link:https://www.fool.com/investing/2025/07/19/meta-ceo-mark-zuckerberg-just-assembled-a-super-in/?.tsrc=rss\n",
            "Published:Sat, 19 Jul 2025 10:17:00 +0000\n",
            "Summary:Meta CEO Mark Zuckerberg has recently gone on a spending binge in pursuit of \"super intelligence.\"  Over the past month-plus, Meta has poached top talent from other big artificial intelligence (AI) players with nine-figure offers.  Investors may be generally tracking the artificial intelligence wars (AI), with most of the \"Magnificent Seven\" companies spending hand over fist in a race to be the first to crack AI -- and all the financial benefits that come with it.\n",
            "Sentiment:{'label': 'neutral', 'score': 0.8577512502670288}\n",
            "Score:0.8577512502670288\n",
            "----------------------------------------\n",
            "Title:India's financial crime fighting agency summons Google, Meta executives, sources say\n",
            "Link:https://sg.finance.yahoo.com/news/india-summons-google-meta-betting-074721547.html?.tsrc=rss\n",
            "Published:Sat, 19 Jul 2025 07:47:21 +0000\n",
            "Summary:(Reuters) -India's financial crime fighting agency has summoned executives of tech giants Google and Meta to its headquarters on Monday as it investigates accusations of money laundering on online betting apps, two government sources said.  The Enforcement Directorate (ED) is investigating whether the platforms eased the way for promotion and wider reach of betting apps through advertisements, the first source said.  A date of July 21 has been set for the appearances at the agency's headquarters in the capital, New Delhi, the source added.\n",
            "Sentiment:{'label': 'neutral', 'score': 0.7887285351753235}\n",
            "Score:0.7887285351753235\n",
            "----------------------------------------\n",
            "Title:ReelTime's RLTR Soars 54% in One Week, Outperforming Every Major AI Stock as Investors Embrace \"Reel Intelligence\"\n",
            "Link:https://finance.yahoo.com/news/reeltimes-rltr-soars-54-one-213500098.html?.tsrc=rss\n",
            "Published:Fri, 18 Jul 2025 21:35:00 +0000\n",
            "Summary:RLTR becomes top-performing AI stock of the week, surpassing tech heavyweights Microsoft (MSFT), NVIDIA (NVDA), Alphabet (GOOGL), Amazon (AMZN), Meta (META), AMD, and Palantir (PLTR), BOTHELL, WA / ACCESS Newswire / July 18, 2025 / ReelTime Media ...\n",
            "Sentiment:{'label': 'positive', 'score': 0.8979775309562683}\n",
            "Score:0.8979775309562683\n",
            "----------------------------------------\n",
            "Title:Jim Cramer Says Meta is a “Fantastic Company”\n",
            "Link:https://finance.yahoo.com/news/jim-cramer-says-meta-fantastic-183053006.html?.tsrc=rss\n",
            "Published:Fri, 18 Jul 2025 18:30:53 +0000\n",
            "Summary:Meta Platforms, Inc. (NASDAQ:META) is one of the stocks Jim Cramer weighed in on. A caller asked if Cramer thinks the stock is a buy, sell, or hold for the long term, and he remarked: “Yeah, absolutely. I love the fact that it came in. I want stocks to go down a little so we […]\n",
            "Sentiment:{'label': 'neutral', 'score': 0.7605909705162048}\n",
            "Score:0.7605909705162048\n",
            "----------------------------------------\n",
            "Title:Dear Meta Platforms Stock Fans, Mark Your Calendars for July 30\n",
            "Link:https://www.barchart.com/story/news/33500623/dear-meta-platforms-stock-fans-mark-your-calendars-for-july-30?.tsrc=rss\n",
            "Published:Fri, 18 Jul 2025 18:14:55 +0000\n",
            "Summary:Meta’s July 30 earnings call could be a pivotal moment, as analysts expect continued strong growth from AI and advertising, while Wall Street now rates the stock a “Strong Buy.”\n",
            "Sentiment:{'label': 'positive', 'score': 0.9272283315658569}\n",
            "Score:0.9272283315658569\n",
            "----------------------------------------\n"
          ]
        }
      ]
    },
    {
      "cell_type": "code",
      "source": [
        "overall_score=total_score/num_articles\n",
        "print(f'Overall Sentiment:{\"Positive\" if overall_score>0.15 else \"Negative\" if overall_score<=-0.15 else \"Neutral\"} {overall_score}')"
      ],
      "metadata": {
        "colab": {
          "base_uri": "https://localhost:8080/"
        },
        "id": "b5opijEYoncK",
        "outputId": "4acb33d3-7d7f-4934-b9d6-0c2445de5671"
      },
      "execution_count": null,
      "outputs": [
        {
          "output_type": "stream",
          "name": "stdout",
          "text": [
            "Overall Sentiment:Positive 0.9230180382728577\n"
          ]
        }
      ]
    },
    {
      "cell_type": "code",
      "source": [
        "print(f'Positive:{positive}')\n",
        "print(f'Negative:{negative}')\n",
        "print(f'Neutral:{neutral}')"
      ],
      "metadata": {
        "colab": {
          "base_uri": "https://localhost:8080/"
        },
        "id": "y5CwLK1Yx900",
        "outputId": "173700ff-1554-4fb9-bf3e-ea1ad70e1259"
      },
      "execution_count": null,
      "outputs": [
        {
          "output_type": "stream",
          "name": "stdout",
          "text": [
            "Positive:4\n",
            "Negative:0\n",
            "Neutral:6\n"
          ]
        }
      ]
    },
    {
      "cell_type": "code",
      "metadata": {
        "colab": {
          "base_uri": "https://localhost:8080/",
          "height": 675
        },
        "id": "2152b442",
        "outputId": "b6845247-daef-466a-b48a-9dee16ae73c0"
      },
      "source": [
        "import matplotlib.pyplot as plt\n",
        "\n",
        "sentiment_counts = {\n",
        "    'positive': positive,\n",
        "    'negative': negative,\n",
        "    'neutral': neutral\n",
        "}\n",
        "\n",
        "labels = sentiment_counts.keys()\n",
        "sizes = sentiment_counts.values()\n",
        "colors = ['green', 'red', 'yellow']\n",
        "\n",
        "plt.figure(figsize=(8, 8))\n",
        "plt.pie(sizes, labels=labels, colors=colors, autopct='%1.1f%%', startangle=140)\n",
        "plt.title('Sentiment Distribution')\n",
        "plt.axis('equal')  # Equal aspect ratio ensures that pie is drawn as a circle.\n",
        "plt.show()"
      ],
      "execution_count": null,
      "outputs": [
        {
          "output_type": "display_data",
          "data": {
            "text/plain": [
              "<Figure size 800x800 with 1 Axes>"
            ],
            "image/png": "[encoded data removed]"
          },
          "metadata": {}
        }
      ]
    }
  ]
}